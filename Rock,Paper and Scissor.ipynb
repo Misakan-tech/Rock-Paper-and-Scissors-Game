{
 "cells": [
  {
   "cell_type": "code",
   "execution_count": 5,
   "metadata": {},
   "outputs": [
    {
     "name": "stdout",
     "output_type": "stream",
     "text": [
      "Player moves: ['P', 'R', 'P', 'P', 'P', 'P', 'P', 'P', 'P', 'P', 'P', 'P', 'P', 'P', 'P', 'P', 'P', 'P', 'P', 'P', 'P', 'P', 'P', 'P', 'P', 'P', 'P', 'P', 'P', 'P', 'P', 'P', 'P', 'P', 'P', 'P', 'P', 'P', 'P', 'P', 'P', 'P', 'P', 'P', 'P', 'P', 'P', 'P', 'P', 'P', 'P', 'P', 'P', 'P', 'P', 'P', 'P', 'P', 'P', 'P', 'P', 'P', 'P', 'P', 'P', 'P', 'P', 'P', 'P', 'P', 'P', 'P', 'P', 'P', 'P', 'P', 'P', 'P', 'P', 'P', 'P', 'P', 'P', 'P', 'P', 'P', 'P', 'P', 'P', 'P', 'P', 'P', 'P', 'P', 'P', 'P', 'P', 'P', 'P', 'P', 'P', 'P', 'P', 'P', 'P', 'P', 'P', 'P', 'P', 'P', 'P', 'P', 'P', 'P', 'P', 'P', 'P', 'P', 'P', 'P', 'P', 'P', 'P', 'P', 'P', 'P', 'P', 'P', 'P', 'P', 'P', 'P', 'P', 'P', 'P', 'P', 'P', 'P', 'P', 'P', 'P', 'P', 'P', 'P', 'P', 'P', 'P', 'P', 'P', 'P', 'P', 'P', 'R', 'R', 'P', 'R', 'R', 'R', 'R', 'R', 'R', 'R', 'R', 'R', 'R', 'R', 'R', 'P', 'P', 'R', 'P', 'P', 'P', 'P', 'P', 'P', 'R', 'P', 'P', 'P', 'P', 'P', 'P', 'P', 'P', 'P', 'P', 'P', 'P', 'P', 'P', 'P', 'P', 'P', 'R', 'R', 'R', 'P', 'P', 'R', 'R', 'P', 'R', 'R', 'R', 'R', 'R', 'R', 'R', 'R', 'R', 'R', 'R', 'R', 'R', 'R', 'R', 'R', 'R', 'R', 'R', 'R', 'R', 'R', 'R', 'R', 'R', 'R', 'R', 'R', 'R', 'R', 'R', 'R', 'R', 'R', 'R', 'R', 'R', 'R', 'R', 'R', 'R', 'R', 'R', 'R', 'R', 'R', 'R', 'R', 'R', 'R', 'R', 'R', 'R', 'R', 'R', 'R', 'R', 'R', 'R', 'R', 'R', 'R', 'R', 'R', 'R', 'R', 'R', 'R', 'R', 'R', 'R', 'R', 'R', 'R', 'R', 'R', 'R', 'R', 'R', 'R', 'R', 'R', 'R', 'R', 'R', 'R', 'R', 'R', 'R', 'R', 'R', 'R', 'R', 'R', 'R', 'R', 'R', 'R', 'R', 'R', 'R', 'R', 'R', 'R', 'R', 'R', 'R', 'R', 'R', 'R', 'R', 'R', 'R', 'R', 'R', 'R', 'R', 'R', 'R', 'R', 'R', 'R', 'R', 'R', 'R', 'R', 'R', 'R', 'R', 'R', 'R', 'R', 'R', 'R', 'R', 'R', 'R', 'R', 'R', 'R', 'R', 'R', 'R', 'R', 'R', 'R', 'R', 'R', 'R', 'R', 'R', 'R', 'R', 'R', 'R', 'R', 'R', 'R', 'R', 'R', 'R', 'R', 'R', 'R', 'R', 'R', 'R', 'R', 'R', 'R', 'R', 'R', 'R', 'R', 'R', 'R', 'R', 'R', 'R', 'R', 'R', 'R', 'R', 'R', 'R', 'R', 'R', 'R', 'R', 'R', 'R', 'R', 'R', 'R', 'R', 'R', 'R', 'R', 'R', 'R', 'R', 'R', 'R', 'R', 'R', 'R', 'R', 'R', 'R', 'R', 'R', 'R', 'R', 'R', 'R', 'R', 'R', 'R', 'R', 'R', 'R', 'R', 'R', 'R', 'R', 'R', 'R', 'R', 'R', 'R', 'R', 'R', 'R', 'R', 'R', 'R', 'R', 'R', 'R', 'R', 'R', 'R', 'R', 'R', 'R', 'R', 'R', 'R', 'R', 'R', 'R', 'R', 'R', 'R', 'R', 'R', 'R', 'R', 'R', 'R', 'R', 'R', 'R', 'R', 'R', 'R', 'R', 'R', 'R', 'R', 'R', 'R', 'R', 'R', 'R', 'R', 'R', 'R', 'R', 'R', 'R', 'R', 'R', 'R', 'R', 'R', 'R', 'R', 'R', 'R', 'R', 'R', 'R', 'R', 'R', 'R', 'R', 'R', 'R', 'R', 'R', 'R', 'R', 'R', 'R', 'R', 'R', 'R', 'R', 'R', 'R', 'R', 'R', 'R', 'R', 'R', 'R', 'R', 'R', 'R', 'R', 'R', 'R', 'R', 'R', 'R', 'R', 'R', 'R', 'R', 'R', 'R', 'R', 'R', 'R', 'R', 'R', 'R', 'R', 'R', 'R', 'R', 'R', 'R', 'R', 'R', 'R', 'R', 'R', 'R', 'R', 'R', 'R', 'R', 'R', 'R', 'R', 'R', 'R', 'R', 'R', 'R', 'R', 'R', 'R', 'R', 'R', 'R', 'R', 'R', 'R', 'R', 'R', 'R', 'R', 'R', 'R', 'R', 'R', 'R', 'R', 'R', 'R', 'R', 'R', 'R', 'R', 'R', 'R', 'R', 'R', 'R', 'R', 'R', 'R', 'R', 'R', 'R', 'R', 'R', 'R', 'R', 'R', 'R', 'R', 'R', 'R', 'R', 'R', 'R', 'R', 'R', 'R', 'R', 'R', 'R', 'R', 'R', 'R', 'R', 'R', 'R', 'R', 'R', 'R', 'R', 'R', 'R', 'R', 'R', 'R', 'R', 'R', 'R', 'R', 'R', 'R', 'R', 'R', 'R', 'R', 'R', 'R', 'R', 'R', 'R', 'R', 'R', 'R', 'R', 'R', 'R', 'R', 'R', 'R', 'R', 'R', 'R', 'R', 'R', 'R', 'R', 'R', 'R', 'R', 'R', 'R', 'R', 'R', 'R', 'R', 'R', 'R', 'R', 'R', 'R', 'R', 'R', 'R', 'R', 'R', 'R', 'R', 'R', 'R', 'R', 'R', 'R', 'R', 'R', 'R', 'R', 'R', 'R', 'R', 'R', 'R', 'R', 'R', 'R', 'R', 'R', 'R', 'R', 'R', 'R', 'R', 'R', 'R', 'R', 'R', 'R', 'R', 'R', 'R', 'R', 'R', 'R', 'R', 'R', 'R', 'R', 'R', 'R', 'R', 'R', 'R', 'R', 'R', 'R', 'R', 'R', 'R', 'R', 'R', 'R', 'R', 'R', 'R', 'R', 'R', 'R', 'R', 'R', 'R', 'R', 'R', 'R', 'R', 'R', 'R', 'R', 'R', 'R', 'R', 'R', 'R', 'R', 'R', 'R', 'R', 'R', 'R', 'R', 'R', 'R', 'R', 'R', 'R', 'R', 'R', 'R', 'R', 'R', 'R', 'R', 'R', 'R', 'R', 'R', 'R', 'R', 'R', 'R', 'R', 'R', 'R', 'R', 'R', 'R', 'R', 'R', 'R', 'R', 'R', 'R', 'R', 'R', 'R', 'R', 'R', 'R', 'R', 'R', 'R', 'R', 'R', 'R', 'R', 'R', 'R', 'R', 'R', 'R', 'R', 'R', 'R', 'R', 'R', 'R', 'R', 'R', 'R', 'R', 'R', 'R', 'R', 'R', 'R', 'R', 'R', 'R', 'R', 'R', 'R', 'R', 'R', 'R', 'R', 'R', 'R', 'R', 'R', 'R', 'R', 'R', 'R', 'R', 'R', 'R', 'R', 'R', 'R', 'R', 'R', 'R', 'R', 'R', 'R', 'R', 'R', 'R', 'R', 'R', 'R', 'R', 'R', 'R', 'R', 'R', 'R', 'R', 'R', 'R', 'R', 'R', 'R', 'R', 'R', 'R', 'R', 'R', 'R', 'R', 'R', 'R', 'R', 'R', 'R', 'R', 'R', 'R', 'R', 'R', 'R', 'R', 'R', 'R', 'R', 'R', 'R', 'R', 'R', 'R', 'R', 'R', 'R', 'R', 'R', 'R', 'R', 'R', 'R', 'R', 'R', 'R', 'R', 'R', 'R', 'R', 'R', 'R', 'R', 'R', 'R', 'R', 'R', 'R', 'R', 'R', 'R', 'R', 'R', 'R', 'R', 'R', 'R', 'R', 'R', 'R', 'R', 'R', 'R', 'R', 'R', 'R', 'R', 'R', 'R', 'R', 'R', 'R', 'R', 'R', 'R', 'R', 'R', 'R', 'R', 'R', 'R', 'R', 'R', 'R', 'R', 'R', 'R', 'R', 'R', 'R', 'R', 'R', 'R', 'R', 'R', 'R', 'R', 'R', 'R', 'R', 'R', 'R', 'R', 'R', 'R', 'R', 'R', 'R', 'R', 'R', 'R', 'R', 'R', 'R', 'R', 'R', 'R', 'R']\n",
      "Opponent moves: ['S', 'R', 'R', 'S', 'R', 'R', 'R', 'S', 'P', 'P', 'S', 'R', 'R', 'S', 'S', 'R', 'R', 'S', 'R', 'S', 'S', 'R', 'S', 'S', 'R', 'R', 'S', 'R', 'R', 'P', 'S', 'R', 'P', 'S', 'R', 'S', 'P', 'R', 'P', 'R', 'S', 'P', 'R', 'P', 'P', 'S', 'P', 'R', 'S', 'S', 'S', 'R', 'R', 'S', 'S', 'P', 'P', 'R', 'P', 'R', 'R', 'S', 'R', 'P', 'R', 'S', 'R', 'P', 'P', 'P', 'P', 'P', 'P', 'R', 'P', 'S', 'P', 'R', 'R', 'R', 'R', 'P', 'R', 'S', 'P', 'S', 'R', 'R', 'R', 'R', 'S', 'S', 'R', 'S', 'P', 'R', 'P', 'S', 'P', 'S', 'R', 'S', 'P', 'R', 'S', 'S', 'R', 'S', 'P', 'P', 'S', 'P', 'S', 'R', 'R', 'P', 'R', 'S', 'P', 'R', 'R', 'R', 'R', 'S', 'R', 'R', 'P', 'S', 'S', 'P', 'P', 'S', 'S', 'P', 'S', 'S', 'S', 'P', 'S', 'S', 'S', 'R', 'S', 'R', 'S', 'S', 'S', 'R', 'S', 'P', 'S', 'S', 'P', 'R', 'S', 'S', 'P', 'P', 'P', 'R', 'S', 'P', 'R', 'S', 'P', 'R', 'R', 'P', 'S', 'R', 'R', 'S', 'R', 'S', 'P', 'S', 'R', 'R', 'P', 'S', 'R', 'S', 'R', 'S', 'R', 'S', 'R', 'P', 'P', 'P', 'P', 'P', 'S', 'S', 'S', 'R', 'R', 'P', 'S', 'P', 'R', 'S', 'S', 'P', 'R', 'S', 'R', 'S', 'S', 'R', 'R', 'S', 'R', 'P', 'S', 'S', 'P', 'P', 'S', 'R', 'S', 'S', 'S', 'S', 'P', 'R', 'R', 'S', 'P', 'P', 'S', 'P', 'P', 'R', 'R', 'R', 'P', 'R', 'R', 'S', 'R', 'S', 'S', 'P', 'P', 'S', 'P', 'R', 'S', 'P', 'S', 'P', 'S', 'S', 'S', 'P', 'R', 'S', 'P', 'R', 'P', 'P', 'S', 'P', 'P', 'R', 'S', 'S', 'S', 'P', 'P', 'R', 'R', 'P', 'P', 'S', 'S', 'S', 'P', 'P', 'P', 'R', 'P', 'R', 'S', 'S', 'S', 'S', 'S', 'P', 'P', 'S', 'P', 'S', 'P', 'R', 'R', 'R', 'P', 'S', 'P', 'P', 'R', 'R', 'P', 'R', 'S', 'S', 'P', 'S', 'R', 'S', 'P', 'R', 'P', 'R', 'S', 'R', 'R', 'S', 'R', 'R', 'R', 'S', 'P', 'S', 'S', 'P', 'S', 'S', 'R', 'S', 'P', 'R', 'S', 'R', 'S', 'R', 'S', 'S', 'P', 'P', 'S', 'R', 'P', 'S', 'S', 'P', 'S', 'P', 'P', 'S', 'R', 'S', 'P', 'P', 'R', 'S', 'R', 'S', 'P', 'P', 'P', 'R', 'S', 'S', 'S', 'R', 'P', 'R', 'S', 'S', 'R', 'R', 'P', 'R', 'P', 'S', 'P', 'R', 'S', 'S', 'S', 'R', 'R', 'S', 'S', 'R', 'S', 'S', 'P', 'R', 'R', 'R', 'S', 'P', 'S', 'S', 'P', 'P', 'P', 'P', 'S', 'P', 'S', 'R', 'S', 'R', 'P', 'P', 'P', 'P', 'R', 'P', 'P', 'S', 'R', 'P', 'P', 'S', 'S', 'P', 'P', 'R', 'P', 'R', 'S', 'S', 'S', 'R', 'R', 'R', 'P', 'S', 'S', 'P', 'R', 'P', 'S', 'P', 'S', 'R', 'S', 'S', 'S', 'R', 'S', 'R', 'R', 'S', 'S', 'S', 'P', 'S', 'R', 'R', 'R', 'R', 'S', 'R', 'S', 'P', 'P', 'R', 'R', 'R', 'R', 'S', 'R', 'P', 'S', 'R', 'R', 'P', 'P', 'P', 'S', 'S', 'P', 'S', 'P', 'R', 'R', 'S', 'P', 'S', 'R', 'R', 'P', 'S', 'P', 'R', 'R', 'S', 'P', 'P', 'P', 'P', 'S', 'R', 'R', 'S', 'P', 'S', 'R', 'P', 'S', 'R', 'P', 'S', 'P', 'P', 'P', 'S', 'P', 'R', 'R', 'P', 'P', 'S', 'R', 'R', 'P', 'S', 'R', 'S', 'R', 'P', 'S', 'R', 'R', 'R', 'P', 'P', 'P', 'R', 'S', 'P', 'S', 'S', 'P', 'R', 'P', 'R', 'P', 'P', 'S', 'P', 'R', 'S', 'R', 'P', 'P', 'P', 'R', 'S', 'S', 'S', 'S', 'P', 'R', 'R', 'S', 'S', 'P', 'P', 'P', 'P', 'P', 'P', 'R', 'P', 'S', 'R', 'S', 'P', 'S', 'S', 'R', 'R', 'R', 'P', 'P', 'S', 'R', 'S', 'S', 'P', 'P', 'S', 'R', 'R', 'S', 'S', 'P', 'R', 'S', 'S', 'R', 'R', 'S', 'R', 'S', 'R', 'R', 'P', 'P', 'P', 'S', 'P', 'P', 'R', 'S', 'R', 'R', 'R', 'P', 'S', 'P', 'R', 'R', 'P', 'R', 'S', 'S', 'S', 'R', 'S', 'P', 'R', 'P', 'R', 'R', 'S', 'P', 'R', 'P', 'P', 'R', 'R', 'R', 'S', 'P', 'P', 'P', 'R', 'P', 'R', 'R', 'S', 'S', 'S', 'S', 'S', 'R', 'S', 'P', 'R', 'R', 'P', 'R', 'S', 'S', 'R', 'R', 'S', 'R', 'P', 'S', 'R', 'S', 'P', 'R', 'P', 'P', 'P', 'R', 'P', 'R', 'S', 'R', 'R', 'P', 'R', 'R', 'P', 'R', 'S', 'P', 'R', 'P', 'P', 'S', 'S', 'P', 'S', 'P', 'R', 'P', 'P', 'S', 'P', 'S', 'S', 'R', 'R', 'S', 'S', 'S', 'S', 'R', 'P', 'P', 'P', 'R', 'P', 'R', 'S', 'R', 'P', 'P', 'P', 'S', 'R', 'P', 'P', 'S', 'S', 'S', 'R', 'P', 'R', 'P', 'S', 'S', 'P', 'R', 'P', 'S', 'S', 'R', 'S', 'S', 'P', 'R', 'S', 'R', 'S', 'P', 'S', 'S', 'S', 'R', 'P', 'S', 'S', 'P', 'P', 'P', 'S', 'R', 'S', 'S', 'R', 'S', 'S', 'R', 'R', 'S', 'S', 'P', 'R', 'P', 'R', 'S', 'R', 'R', 'P', 'P', 'S', 'P', 'S', 'R', 'S', 'S', 'S', 'P', 'R', 'P', 'P', 'P', 'R', 'R', 'S', 'R', 'P', 'R', 'S', 'S', 'R', 'R', 'P', 'R', 'R', 'R', 'S', 'S', 'P', 'P', 'S', 'R', 'S', 'P', 'R', 'P', 'R', 'P', 'R', 'P', 'R', 'R', 'R', 'S', 'P', 'S', 'P', 'R', 'S', 'S', 'S', 'S', 'P', 'S', 'P', 'S', 'S', 'S', 'S', 'P', 'R', 'S', 'P', 'P', 'S', 'R', 'P', 'S', 'S', 'P', 'S', 'S', 'R', 'P', 'P', 'S', 'S', 'R', 'P', 'P', 'R', 'S', 'P', 'S', 'S', 'P', 'P', 'S', 'S', 'S', 'S', 'P', 'P', 'R', 'R', 'P', 'S', 'R', 'P', 'P', 'R', 'S', 'S', 'P', 'S', 'S', 'R', 'R', 'R', 'R', 'R', 'R', 'S', 'P', 'R', 'R', 'P', 'P', 'R', 'S', 'R', 'P', 'R', 'S', 'P', 'S', 'P', 'S', 'S', 'R', 'S', 'P', 'P', 'P', 'S', 'S', 'S', 'S', 'R', 'S', 'R', 'S', 'P', 'S', 'R', 'S', 'P', 'R', 'S', 'R', 'P', 'P', 'S', 'P', 'S', 'P', 'R', 'R', 'S', 'R', 'S', 'P', 'P', 'R', 'R', 'S', 'S', 'P', 'S', 'P', 'P', 'P', 'R', 'R', 'S', 'S', 'R', 'S', 'S', 'R', 'R', 'R', 'S', 'S', 'P', 'R', 'S', 'R', 'R', 'R', 'R', 'R', 'P', 'P', 'S', 'P', 'R', 'P', 'P', 'P', 'S', 'P', 'P', 'R', 'S', 'R', 'S', 'P', 'R', 'R', 'P', 'S', 'P', 'R', 'R', 'S', 'R', 'S', 'R', 'R', 'R']\n",
      "Wins: 350, Losses: 336, Draws: 314\n",
      "Win percentage: 35.00%\n"
     ]
    }
   ],
   "source": [
    "import random\n",
    "def player(prev_play, opponent_history=[]):\n",
    "    if prev_play:\n",
    "        opponent_history.append(prev_play)\n",
    "    \n",
    "    if not opponent_history:\n",
    "        return random.choice([\"R\",\"P\",\"S\"])\n",
    "    \n",
    "    most_common= max(set(opponent_history), key=opponent_history.count)\n",
    "\n",
    "    counter_moves={\"R\": \"P\", \"P\": \"S\",\"S\": \"R\"}\n",
    "    return counter_moves[most_common]\n",
    "\n",
    "def main():\n",
    "    num_games = 1000\n",
    "    opponent_moves = [random.choice([\"R\", \"P\", \"S\"]) for _ in range(num_games)]\n",
    "    player_moves = []\n",
    "    prev_play = \"\"\n",
    "    \n",
    "    win_count = 0\n",
    "    lose_count = 0\n",
    "    draw_count = 0\n",
    "    \n",
    "    win_conditions = {(\"R\", \"S\"), (\"P\", \"R\"), (\"S\", \"P\")}\n",
    "    \n",
    "    for move in opponent_moves:\n",
    "        player_move = player(prev_play)\n",
    "        player_moves.append(player_move)\n",
    "        prev_play = move\n",
    "        \n",
    "        if (player_move, move) in win_conditions:\n",
    "            win_count += 1\n",
    "        elif player_move == move:\n",
    "            draw_count += 1\n",
    "        else:\n",
    "            lose_count += 1\n",
    "    \n",
    "    print(\"Player moves:\", player_moves)\n",
    "    print(\"Opponent moves:\", opponent_moves)\n",
    "    print(f\"Wins: {win_count}, Losses: {lose_count}, Draws: {draw_count}\")\n",
    "    print(f\"Win percentage: {(win_count / num_games) * 100:.2f}%\")\n",
    "\n",
    "if __name__ == \"__main__\":\n",
    "    main()\n"
   ]
  }
 ],
 "metadata": {
  "kernelspec": {
   "display_name": "Python 3",
   "language": "python",
   "name": "python3"
  },
  "language_info": {
   "codemirror_mode": {
    "name": "ipython",
    "version": 3
   },
   "file_extension": ".py",
   "mimetype": "text/x-python",
   "name": "python",
   "nbconvert_exporter": "python",
   "pygments_lexer": "ipython3",
   "version": "3.13.2"
  }
 },
 "nbformat": 4,
 "nbformat_minor": 2
}
